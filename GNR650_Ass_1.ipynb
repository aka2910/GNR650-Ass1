{
  "nbformat": 4,
  "nbformat_minor": 0,
  "metadata": {
    "colab": {
      "provenance": [],
      "gpuType": "T4",
      "authorship_tag": "ABX9TyPuzFhM5IZvcGngtqYKboia",
      "include_colab_link": true
    },
    "kernelspec": {
      "name": "python3",
      "display_name": "Python 3"
    },
    "language_info": {
      "name": "python"
    },
    "accelerator": "GPU"
  },
  "cells": [
    {
      "cell_type": "markdown",
      "metadata": {
        "id": "view-in-github",
        "colab_type": "text"
      },
      "source": [
        "<a href=\"https://colab.research.google.com/github/aka2910/GNR650-Ass1/blob/main/GNR650_Ass_1.ipynb\" target=\"_parent\"><img src=\"https://colab.research.google.com/assets/colab-badge.svg\" alt=\"Open In Colab\"/></a>"
      ]
    },
    {
      "cell_type": "code",
      "execution_count": 30,
      "metadata": {
        "id": "9K4B4UNm8Tfq",
        "colab": {
          "base_uri": "https://localhost:8080/"
        },
        "outputId": "050180bd-f895-4d82-bbff-a19c419376ed"
      },
      "outputs": [
        {
          "output_type": "stream",
          "name": "stdout",
          "text": [
            "Using device: cuda\n"
          ]
        }
      ],
      "source": [
        "import torch\n",
        "import torch.nn as nn\n",
        "import torchvision\n",
        "import torchvision.transforms as transforms\n",
        "from torch.utils.data import DataLoader\n",
        "from sklearn.model_selection import StratifiedShuffleSplit\n",
        "import numpy as np\n",
        "# Set a fixed random seed for reproducibility\n",
        "torch.manual_seed(42)\n",
        "np.random.seed(42)\n",
        "device = torch.device(\"cuda\" if torch.cuda.is_available() else \"cpu\")\n",
        "print(\"Using device:\", device)\n"
      ]
    },
    {
      "cell_type": "code",
      "source": [
        "transform = transforms.Compose([\n",
        "    transforms.ToTensor(),\n",
        "    transforms.Normalize(mean=[0.5, 0.5, 0.5], std=[0.5, 0.5, 0.5])\n",
        "])\n",
        "\n"
      ],
      "metadata": {
        "id": "ZpeydF4h9JDh"
      },
      "execution_count": 9,
      "outputs": []
    },
    {
      "cell_type": "code",
      "source": [
        "model = torchvision.models.resnet18(pretrained=False, num_classes=10)\n",
        "# Loss and Optimizer\n",
        "criterion = nn.CrossEntropyLoss()\n",
        "optimizer = torch.optim.SGD(model.parameters(), lr=0.01, momentum=0.9)\n"
      ],
      "metadata": {
        "colab": {
          "base_uri": "https://localhost:8080/"
        },
        "id": "ukiKhG3A9QKy",
        "outputId": "2e77ff73-37db-4c8c-ca1b-ec71c0114864"
      },
      "execution_count": 16,
      "outputs": [
        {
          "output_type": "stream",
          "name": "stderr",
          "text": [
            "/usr/local/lib/python3.10/dist-packages/torchvision/models/_utils.py:208: UserWarning: The parameter 'pretrained' is deprecated since 0.13 and may be removed in the future, please use 'weights' instead.\n",
            "  warnings.warn(\n",
            "/usr/local/lib/python3.10/dist-packages/torchvision/models/_utils.py:223: UserWarning: Arguments other than a weight enum or `None` for 'weights' are deprecated since 0.13 and may be removed in the future. The current behavior is equivalent to passing `weights=None`.\n",
            "  warnings.warn(msg)\n"
          ]
        }
      ]
    },
    {
      "cell_type": "code",
      "source": [
        "# Training Loop\n",
        "batch_size = 32\n",
        "num_samples_per_class = 20  # Number of samples per class\n",
        "\n",
        "trainset = torchvision.datasets.CIFAR10(root='./data', train=True, download=True, transform=transform)\n",
        "\n",
        "# Stratified Sampling to Create Subset\n",
        "labels = np.array(trainset.targets)\n",
        "stratified_splitter = StratifiedShuffleSplit(n_splits=1, train_size=num_samples_per_class * 10, test_size=len(trainset) - num_samples_per_class * 10)\n",
        "train_indices, _ = next(stratified_splitter.split(labels, labels))\n",
        "limited_trainset = torch.utils.data.Subset(trainset, train_indices)\n",
        "\n",
        "limited_loader = DataLoader(limited_trainset, batch_size=batch_size, shuffle=True)\n",
        "print('Limited Training Set Size:', len(limited_trainset))\n",
        "print('Original Test Set Size:', len(trainset) - len(limited_trainset))\n",
        "\n"
      ],
      "metadata": {
        "colab": {
          "base_uri": "https://localhost:8080/"
        },
        "id": "_f_WNwI79Vww",
        "outputId": "21827fec-3049-4b31-b627-60b5d84c30d2"
      },
      "execution_count": 17,
      "outputs": [
        {
          "output_type": "stream",
          "name": "stdout",
          "text": [
            "Files already downloaded and verified\n",
            "Limited Training Set Size: 200\n",
            "Original Test Set Size: 49800\n"
          ]
        }
      ]
    },
    {
      "cell_type": "code",
      "source": [
        "num_epochs = 20\n",
        "\n",
        "for epoch in range(num_epochs):\n",
        "    model.train()\n",
        "    running_loss = 0.0\n",
        "    correct = 0\n",
        "    total = 0\n",
        "    for images, labels in limited_loader:\n",
        "        optimizer.zero_grad()\n",
        "        outputs = model(images)\n",
        "        loss = criterion(outputs, labels)\n",
        "        loss.backward()\n",
        "        optimizer.step()\n",
        "\n",
        "        running_loss += loss.item()\n",
        "        _, predicted = torch.max(outputs.data, 1)\n",
        "        total += labels.size(0)\n",
        "        correct += (predicted == labels).sum().item()\n",
        "\n",
        "    print('Epoch [{}/{}], Loss: {:.4f}, Accuracy: {:.2f}%'.format(epoch + 1, num_epochs, running_loss / len(limited_loader), 100 * correct / total))\n",
        "\n"
      ],
      "metadata": {
        "colab": {
          "base_uri": "https://localhost:8080/"
        },
        "id": "7jjsNtiB95iN",
        "outputId": "e5b1933e-076d-4f65-e4a5-f5700fd80e76"
      },
      "execution_count": 18,
      "outputs": [
        {
          "output_type": "stream",
          "name": "stdout",
          "text": [
            "Epoch [1/20], Loss: 2.5758, Accuracy: 12.50%\n",
            "Epoch [2/20], Loss: 2.3416, Accuracy: 24.00%\n",
            "Epoch [3/20], Loss: 2.4223, Accuracy: 33.00%\n",
            "Epoch [4/20], Loss: 1.8769, Accuracy: 47.50%\n",
            "Epoch [5/20], Loss: 1.5663, Accuracy: 51.50%\n",
            "Epoch [6/20], Loss: 1.1970, Accuracy: 70.00%\n",
            "Epoch [7/20], Loss: 0.9128, Accuracy: 70.00%\n",
            "Epoch [8/20], Loss: 0.8277, Accuracy: 72.50%\n",
            "Epoch [9/20], Loss: 1.0582, Accuracy: 75.50%\n",
            "Epoch [10/20], Loss: 0.7708, Accuracy: 77.00%\n",
            "Epoch [11/20], Loss: 0.7029, Accuracy: 81.50%\n",
            "Epoch [12/20], Loss: 1.0134, Accuracy: 83.50%\n",
            "Epoch [13/20], Loss: 1.2902, Accuracy: 72.50%\n",
            "Epoch [14/20], Loss: 1.3179, Accuracy: 74.00%\n",
            "Epoch [15/20], Loss: 0.8638, Accuracy: 78.00%\n",
            "Epoch [16/20], Loss: 0.9995, Accuracy: 74.00%\n",
            "Epoch [17/20], Loss: 0.7383, Accuracy: 78.00%\n",
            "Epoch [18/20], Loss: 0.7064, Accuracy: 82.00%\n",
            "Epoch [19/20], Loss: 0.9462, Accuracy: 84.00%\n",
            "Epoch [20/20], Loss: 1.0012, Accuracy: 81.50%\n"
          ]
        }
      ]
    },
    {
      "cell_type": "code",
      "source": [
        "# Test Performance (using the entire test set)\n",
        "testset = torchvision.datasets.CIFAR10(root='./data', train=False, download=True, transform=transform)\n",
        "testloader = torch.utils.data.DataLoader(testset, batch_size=batch_size, shuffle=False)\n",
        "\n",
        "model.eval()\n",
        "correct = 0\n",
        "total = 0\n",
        "with torch.no_grad():\n",
        "    for images, labels in testloader:\n",
        "        outputs = model(images)\n",
        "        _, predicted = torch.max(outputs.data, 1)\n",
        "        total += labels.size(0)\n",
        "        correct += (predicted == labels).sum().item()\n",
        "\n",
        "print('Test Accuracy: {:.2f}%'.format(100 * correct / total))"
      ],
      "metadata": {
        "id": "wLIP7jJs-0_F",
        "colab": {
          "base_uri": "https://localhost:8080/"
        },
        "outputId": "0a08ffd2-c72d-4b4d-d63f-4ff430fdd06c"
      },
      "execution_count": 19,
      "outputs": [
        {
          "output_type": "stream",
          "name": "stdout",
          "text": [
            "Files already downloaded and verified\n",
            "Test Accuracy: 22.72%\n"
          ]
        }
      ]
    },
    {
      "cell_type": "code",
      "source": [
        "import matplotlib.pyplot as plt\n",
        "\n",
        "def visualize_kernels(model, layer_name, num_kernels=8):\n",
        "    layer = model\n",
        "    for name in layer_name.split('.'):\n",
        "        layer = layer._modules[name]\n",
        "\n",
        "    kernels = layer.weight.data.cpu().numpy()\n",
        "    num_kernels = min(num_kernels, kernels.shape[0])\n",
        "\n",
        "    fig, axs = plt.subplots(1, num_kernels, figsize=(15, 2))\n",
        "    for i in range(num_kernels):\n",
        "        kernel = kernels[i]\n",
        "        axs[i].imshow(kernel[0])\n",
        "        axs[i].axis('off')\n",
        "    plt.show()"
      ],
      "metadata": {
        "id": "u1z5BHbQ_dfy"
      },
      "execution_count": 21,
      "outputs": []
    },
    {
      "cell_type": "code",
      "source": [
        "# Visualize Kernels at Different Layers\n",
        "visualize_kernels(model, 'conv1')  # Visualize kernels of the first convolutional layer\n",
        "visualize_kernels(model, 'layer1.0.conv1')  # Visualize kernels of the first convolutional layer in the first residual block\n",
        "visualize_kernels(model, 'layer2.0.conv1')  # Visualize kernels of the first convolutional layer in the second residual block\n",
        "visualize_kernels(model,\"layer4.1.conv2\")\n"
      ],
      "metadata": {
        "colab": {
          "base_uri": "https://localhost:8080/",
          "height": 589
        },
        "id": "m3tf0NXL_wzu",
        "outputId": "82de485b-9241-4a92-ea8c-c1944fb5247d"
      },
      "execution_count": 22,
      "outputs": [
        {
          "output_type": "display_data",
          "data": {
            "text/plain": [
              "<Figure size 1500x200 with 8 Axes>"
            ],
            "image/png": "[encoded data removed]"
          },
          "metadata": {}
        },
        {
          "output_type": "display_data",
          "data": {
            "text/plain": [
              "<Figure size 1500x200 with 8 Axes>"
            ],
            "image/png": "[encoded data removed]"
          },
          "metadata": {}
        },
        {
          "output_type": "display_data",
          "data": {
            "text/plain": [
              "<Figure size 1500x200 with 8 Axes>"
            ],
            "image/png": "[encoded data removed]"
          },
          "metadata": {}
        },
        {
          "output_type": "display_data",
          "data": {
            "text/plain": [
              "<Figure size 1500x200 with 8 Axes>"
            ],
            "image/png": "[encoded data removed]"
          },
          "metadata": {}
        }
      ]
    },
    {
      "cell_type": "code",
      "source": [
        "def check_weight_magnitudes(model):\n",
        "    for name, param in model.named_parameters():\n",
        "        if 'weight' in name:\n",
        "            print(f'{name}: {param.data.norm()}')\n",
        "\n",
        "check_weight_magnitudes(model)"
      ],
      "metadata": {
        "colab": {
          "base_uri": "https://localhost:8080/"
        },
        "id": "-KyRigTA_y-C",
        "outputId": "e3fe36bc-4680-4262-cebd-94182b9d81aa"
      },
      "execution_count": 23,
      "outputs": [
        {
          "output_type": "stream",
          "name": "stdout",
          "text": [
            "conv1.weight: 5.867685794830322\n",
            "bn1.weight: 8.142169952392578\n",
            "layer1.0.conv1.weight: 11.824161529541016\n",
            "layer1.0.bn1.weight: 8.003251075744629\n",
            "layer1.0.conv2.weight: 11.84288501739502\n",
            "layer1.0.bn2.weight: 7.934043884277344\n",
            "layer1.1.conv1.weight: 11.767675399780273\n",
            "layer1.1.bn1.weight: 8.002466201782227\n",
            "layer1.1.conv2.weight: 11.678718566894531\n",
            "layer1.1.bn2.weight: 7.9351091384887695\n",
            "layer2.0.conv1.weight: 12.052839279174805\n",
            "layer2.0.bn1.weight: 11.315618515014648\n",
            "layer2.0.conv2.weight: 16.62474822998047\n",
            "layer2.0.bn2.weight: 11.253043174743652\n",
            "layer2.0.downsample.0.weight: 11.52934741973877\n",
            "layer2.0.downsample.1.weight: 11.441048622131348\n",
            "layer2.1.conv1.weight: 16.5877628326416\n",
            "layer2.1.bn1.weight: 11.315194129943848\n",
            "layer2.1.conv2.weight: 16.47606086730957\n",
            "layer2.1.bn2.weight: 11.251924514770508\n",
            "layer3.0.conv1.weight: 16.807769775390625\n",
            "layer3.0.bn1.weight: 16.00084686279297\n",
            "layer3.0.conv2.weight: 23.106534957885742\n",
            "layer3.0.bn2.weight: 15.977401733398438\n",
            "layer3.0.downsample.0.weight: 16.126903533935547\n",
            "layer3.0.downsample.1.weight: 16.07947540283203\n",
            "layer3.1.conv1.weight: 23.014251708984375\n",
            "layer3.1.bn1.weight: 16.000511169433594\n",
            "layer3.1.conv2.weight: 22.933439254760742\n",
            "layer3.1.bn2.weight: 15.945554733276367\n",
            "layer4.0.conv1.weight: 23.327293395996094\n",
            "layer4.0.bn1.weight: 22.627792358398438\n",
            "layer4.0.conv2.weight: 32.35169219970703\n",
            "layer4.0.bn2.weight: 22.526779174804688\n",
            "layer4.0.downsample.0.weight: 22.761919021606445\n",
            "layer4.0.downsample.1.weight: 22.553260803222656\n",
            "layer4.1.conv1.weight: 32.306095123291016\n",
            "layer4.1.bn1.weight: 22.627639770507812\n",
            "layer4.1.conv2.weight: 32.16780090332031\n",
            "layer4.1.bn2.weight: 22.44191551208496\n",
            "fc.weight: 3.1187896728515625\n"
          ]
        }
      ]
    },
    {
      "cell_type": "code",
      "source": [
        "model = torchvision.models.resnet18(pretrained=False, num_classes=10)\n",
        "model.to(device)  # Move the model to the GPU\n",
        "criterion = nn.CrossEntropyLoss()\n",
        "optimizer = torch.optim.SGD(model.parameters(), lr=0.01, momentum=0.9)\n"
      ],
      "metadata": {
        "id": "cRGhgmWH_-dC"
      },
      "execution_count": 33,
      "outputs": []
    },
    {
      "cell_type": "code",
      "source": [
        "# Training Loop\n",
        "batch_size = 32\n",
        "num_samples_per_class = 4000  # Number of samples per class\n",
        "\n",
        "trainset = torchvision.datasets.CIFAR10(root='./data', train=True, download=True, transform=transform)\n",
        "\n",
        "# Stratified Sampling to Create Subset\n",
        "labels = np.array(trainset.targets)\n",
        "stratified_splitter = StratifiedShuffleSplit(n_splits=1, train_size=num_samples_per_class * 10, test_size=len(trainset) - num_samples_per_class * 10)\n",
        "train_indices, _ = next(stratified_splitter.split(labels, labels))\n",
        "limited_trainset = torch.utils.data.Subset(trainset, train_indices)\n",
        "\n",
        "limited_loader = DataLoader(limited_trainset, batch_size=batch_size, shuffle=True)\n",
        "print('Limited Training Set Size:', len(limited_trainset))\n",
        "print('Original Test Set Size:', len(trainset) - len(limited_trainset))\n",
        "\n"
      ],
      "metadata": {
        "id": "SiHSvxixAaLL",
        "colab": {
          "base_uri": "https://localhost:8080/"
        },
        "outputId": "11baecdc-049e-4359-a770-b96330dfef85"
      },
      "execution_count": 34,
      "outputs": [
        {
          "output_type": "stream",
          "name": "stdout",
          "text": [
            "Files already downloaded and verified\n",
            "Limited Training Set Size: 40000\n",
            "Original Test Set Size: 10000\n"
          ]
        }
      ]
    },
    {
      "cell_type": "code",
      "source": [
        "num_epochs = 10\n",
        "for epoch in range(num_epochs):\n",
        "    model.train()\n",
        "    running_loss = 0.0\n",
        "    correct = 0\n",
        "    total = 0\n",
        "    for images, labels in limited_loader:\n",
        "        images, labels = images.to(device), labels.to(device)  # Move data to GPU\n",
        "        optimizer.zero_grad()\n",
        "        outputs = model(images)\n",
        "        loss = criterion(outputs, labels)\n",
        "        loss.backward()\n",
        "        optimizer.step()\n",
        "\n",
        "        running_loss += loss.item()\n",
        "        _, predicted = torch.max(outputs.data, 1)\n",
        "        total += labels.size(0)\n",
        "        correct += (predicted == labels).sum().item()\n",
        "\n",
        "    print('Epoch [{}/{}], Loss: {:.4f}, Accuracy: {:.2f}%'.format(epoch + 1, num_epochs, running_loss / len(limited_loader), 100 * correct / total))\n"
      ],
      "metadata": {
        "colab": {
          "base_uri": "https://localhost:8080/"
        },
        "id": "bGgissxMjUQ_",
        "outputId": "01db627b-9a9e-4d2f-c3f8-1e4df8ca7052"
      },
      "execution_count": 35,
      "outputs": [
        {
          "output_type": "stream",
          "name": "stdout",
          "text": [
            "Epoch [1/10], Loss: 1.7300, Accuracy: 41.41%\n",
            "Epoch [2/10], Loss: 1.2704, Accuracy: 56.96%\n",
            "Epoch [3/10], Loss: 1.0293, Accuracy: 64.97%\n",
            "Epoch [4/10], Loss: 0.8531, Accuracy: 70.54%\n",
            "Epoch [5/10], Loss: 0.7151, Accuracy: 75.48%\n",
            "Epoch [6/10], Loss: 0.6188, Accuracy: 78.63%\n",
            "Epoch [7/10], Loss: 0.5187, Accuracy: 82.05%\n",
            "Epoch [8/10], Loss: 0.4289, Accuracy: 85.30%\n",
            "Epoch [9/10], Loss: 0.3600, Accuracy: 87.39%\n",
            "Epoch [10/10], Loss: 0.2974, Accuracy: 89.69%\n"
          ]
        }
      ]
    },
    {
      "cell_type": "code",
      "source": [
        "testset = torchvision.datasets.CIFAR10(root='./data', train=False, download=True, transform=transform)\n",
        "testloader = torch.utils.data.DataLoader(testset, batch_size=batch_size, shuffle=False)\n",
        "\n",
        "model.eval()\n",
        "correct = 0\n",
        "total = 0\n",
        "with torch.no_grad():\n",
        "    for images, labels in testloader:\n",
        "        images, labels = images.to(device), labels.to(device)  # Move data to GPU\n",
        "        outputs = model(images)\n",
        "        _, predicted = torch.max(outputs.data, 1)\n",
        "        total += labels.size(0)\n",
        "        correct += (predicted == labels).sum().item()\n",
        "\n",
        "print('Test Accuracy: {:.2f}%'.format(100 * correct / total))"
      ],
      "metadata": {
        "colab": {
          "base_uri": "https://localhost:8080/"
        },
        "id": "Fy3b1hLFmjdD",
        "outputId": "0c8bf207-1023-4f15-8366-37c4e5831fdb"
      },
      "execution_count": 38,
      "outputs": [
        {
          "output_type": "stream",
          "name": "stdout",
          "text": [
            "Files already downloaded and verified\n",
            "Test Accuracy: 73.20%\n"
          ]
        }
      ]
    },
    {
      "cell_type": "code",
      "source": [
        "# Visualize Kernels at Different Layers\n",
        "visualize_kernels(model, 'conv1')  # Visualize kernels of the first convolutional layer\n",
        "visualize_kernels(model, 'layer1.0.conv1')  # Visualize kernels of the first convolutional layer in the first residual block\n",
        "visualize_kernels(model, 'layer2.0.conv1')  # Visualize kernels of the first convolutional layer in the second residual block\n",
        "visualize_kernels(model,\"layer4.1.conv2\")\n"
      ],
      "metadata": {
        "colab": {
          "base_uri": "https://localhost:8080/",
          "height": 589
        },
        "id": "S1Ve_dTKjabm",
        "outputId": "1951f5ed-d978-4297-d23e-92cc1b56c74c"
      },
      "execution_count": 36,
      "outputs": [
        {
          "output_type": "display_data",
          "data": {
            "text/plain": [
              "<Figure size 1500x200 with 8 Axes>"
            ],
            "image/png": "[encoded data removed]"
          },
          "metadata": {}
        },
        {
          "output_type": "display_data",
          "data": {
            "text/plain": [
              "<Figure size 1500x200 with 8 Axes>"
            ],
            "image/png": "[encoded data removed]"
          },
          "metadata": {}
        },
        {
          "output_type": "display_data",
          "data": {
            "text/plain": [
              "<Figure size 1500x200 with 8 Axes>"
            ],
            "image/png": "[encoded data removed]"
          },
          "metadata": {}
        },
        {
          "output_type": "display_data",
          "data": {
            "text/plain": [
              "<Figure size 1500x200 with 8 Axes>"
            ],
            "image/png": "[encoded data removed]"
          },
          "metadata": {}
        }
      ]
    },
    {
      "cell_type": "code",
      "source": [
        "def check_weight_magnitudes(model):\n",
        "    for name, param in model.named_parameters():\n",
        "        if 'weight' in name:\n",
        "            print(f'{name}: {param.data.norm()}')\n",
        "\n",
        "check_weight_magnitudes(model)"
      ],
      "metadata": {
        "colab": {
          "base_uri": "https://localhost:8080/"
        },
        "id": "FnEqbeEKmge4",
        "outputId": "0f291b65-3ed3-4e7b-a72e-7a225d37708b"
      },
      "execution_count": 39,
      "outputs": [
        {
          "output_type": "stream",
          "name": "stdout",
          "text": [
            "conv1.weight: 13.058143615722656\n",
            "bn1.weight: 9.622817993164062\n",
            "layer1.0.conv1.weight: 14.585318565368652\n",
            "layer1.0.bn1.weight: 8.045860290527344\n",
            "layer1.0.conv2.weight: 14.668742179870605\n",
            "layer1.0.bn2.weight: 7.300532817840576\n",
            "layer1.1.conv1.weight: 14.245604515075684\n",
            "layer1.1.bn1.weight: 7.987305641174316\n",
            "layer1.1.conv2.weight: 14.372980117797852\n",
            "layer1.1.bn2.weight: 7.086160182952881\n",
            "layer2.0.conv1.weight: 16.572391510009766\n",
            "layer2.0.bn1.weight: 11.224126815795898\n",
            "layer2.0.conv2.weight: 21.518978118896484\n",
            "layer2.0.bn2.weight: 11.421260833740234\n",
            "layer2.0.downsample.0.weight: 13.254408836364746\n",
            "layer2.0.downsample.1.weight: 11.81130599975586\n",
            "layer2.1.conv1.weight: 20.769935607910156\n",
            "layer2.1.bn1.weight: 11.216437339782715\n",
            "layer2.1.conv2.weight: 19.865676879882812\n",
            "layer2.1.bn2.weight: 10.557374000549316\n",
            "layer3.0.conv1.weight: 21.4148006439209\n",
            "layer3.0.bn1.weight: 15.975729942321777\n",
            "layer3.0.conv2.weight: 25.205913543701172\n",
            "layer3.0.bn2.weight: 15.900592803955078\n",
            "layer3.0.downsample.0.weight: 17.023284912109375\n",
            "layer3.0.downsample.1.weight: 16.373979568481445\n",
            "layer3.1.conv1.weight: 23.856998443603516\n",
            "layer3.1.bn1.weight: 16.001237869262695\n",
            "layer3.1.conv2.weight: 23.48573875427246\n",
            "layer3.1.bn2.weight: 15.744007110595703\n",
            "layer4.0.conv1.weight: 23.587263107299805\n",
            "layer4.0.bn1.weight: 22.627939224243164\n",
            "layer4.0.conv2.weight: 32.54924774169922\n",
            "layer4.0.bn2.weight: 22.034038543701172\n",
            "layer4.0.downsample.0.weight: 23.750268936157227\n",
            "layer4.0.downsample.1.weight: 21.963285446166992\n",
            "layer4.1.conv1.weight: 32.268707275390625\n",
            "layer4.1.bn1.weight: 22.625232696533203\n",
            "layer4.1.conv2.weight: 32.27867889404297\n",
            "layer4.1.bn2.weight: 19.560306549072266\n",
            "fc.weight: 6.9987921714782715\n"
          ]
        }
      ]
    },
    {
      "cell_type": "code",
      "source": [],
      "metadata": {
        "id": "L4cSplMpmtqg"
      },
      "execution_count": null,
      "outputs": []
    }
  ]
}